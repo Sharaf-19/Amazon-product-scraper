{
 "cells": [
  {
   "cell_type": "code",
   "execution_count": 137,
   "id": "6cf6bdf3-9a9e-4f51-b163-4bbf74c29bb9",
   "metadata": {},
   "outputs": [],
   "source": [
    "from bs4 import BeautifulSoup\n",
    "import requests\n",
    "import time\n",
    "import datetime\n",
    "\n"
   ]
  },
  {
   "cell_type": "code",
   "execution_count": null,
   "id": "5a7d166f-562f-4264-bdbf-b750ca9e0465",
   "metadata": {},
   "outputs": [],
   "source": [
    "#connect to website\n",
    "URL = 'https://www.amazon.in/Whirlpool-Refrigerator-230-IMPRO-ROY/dp/B0BSRVNCYC/ref=sr_1_3_sspa?_encoding=UTF8&content-id=amzn1.sym.58c90a12-100b-4a2f-8e15-7c06f1abe2be&dib=eyJ2IjoiMSJ9.WcV38wJ-brZNaTfMoo7yrQSy1C86Op2e7c-3ilXRx9bPy4BHQejaTHoXRClBtokGeeXUWPnu8dcaiP7Pd795K7L-EbiYdDfVXjmD_cFdFfkvL-DN_N_yOQNYX0qAB88DKTaTESbpcvEsbyiH7oBlmqUtHAGy0AW6oKD97UkfqVlbMkAlLbNmsBMFbeA3-ib-7um6Z6-7iX_40y87DMlfLtipQY7u2hLpHX1ZPA5gLuA1p6pmM6zPLE8ZZzSRRUjsQRXZO6wknoPhsCJVXa2XpPf_LkxeQ0r--BANynBnWnw._an0y4Imyi4mLux9udI3JkllRv0D_eOfkAD30GjO0IM&dib_tag=se&pd_rd_r=e422f30b-1b87-4adc-9659-d55bb290844c&pd_rd_w=wpPvF&pd_rd_wg=Q8Ao7&pf_rd_p=58c90a12-100b-4a2f-8e15-7c06f1abe2be&pf_rd_r=17NMKY2PJDM1BV65HRKG&qid=1723668751&refinements=p_85%3A10440599031&rps=1&s=kitchen&sr=1-3-spons&sp_csd=d2lkZ2V0TmFtZT1zcF9hdGZfYnJvd3Nl&th=1'\n",
    "\n",
    "\n",
    "headers = {\"User-Agent\": \"Mozilla/5.0 (Windows NT 10.0; Win64; x64) AppleWebKit/537.36 (KHTML, like Gecko)\"}\n",
    "\n",
    "page = requests.get(URL, headers=headers)\n",
    "\n",
    "soup1 = BeautifulSoup(page.content, \"html.parser\")\n",
    "\n",
    "soup2 = BeautifulSoup(soup1.prettify(), \"html.parser\")\n",
    "\n",
    "title = soup2.find(id='productTitle').get_text().strip()\n",
    "price = soup2.find(class_='a-price-whole').get_text()\n",
    "\n",
    "print(title)\n",
    "print(price)\n",
    "\n",
    "\n",
    "\n"
   ]
  },
  {
   "cell_type": "code",
   "execution_count": 331,
   "id": "94979cd7-ea7e-4cac-8a0c-686700d7f5af",
   "metadata": {},
   "outputs": [
    {
     "name": "stdout",
     "output_type": "stream",
     "text": [
      "Whirlpool 207 L 5 Star Icemagic Pro Inverter Direct-Cool Single Door Refrigerator (230 IMPRO ROY 5S INV SAPPHIRE ABYSS-Z, Base Stand with Drawer, 2023 Model)\n",
      "19,300\n",
      "                                 \n",
      "                                  .\n",
      "2024-08-15\n"
     ]
    }
   ],
   "source": [
    "# Connect to the website\n",
    "URL = 'https://www.amazon.in/Whirlpool-Refrigerator-230-IMPRO-ROY/dp/B0BSRVNCYC/ref=sr_1_3_sspa?_encoding=UTF8&content-id=amzn1.sym.58c90a12-100b-4a2f-8e15-7c06f1abe2be&dib=eyJ2IjoiMSJ9.WcV38wJ-brZNaTfMoo7yrQSy1C86Op2e7c-3ilXRx9bPy4BHQejaTHoXRClBtokGeeXUWPnu8dcaiP7Pd795K7L-EbiYdDfVXjmD_cFdFfkvL-DN_N_yOQNYX0qAB88DKTaTESbpcvEsbyiH7oBlmqUtHAGy0AW6oKD97UkfqVlbMkAlLbNmsBMFbeA3-ib-7um6Z6-7iX_40y87DMlfLtipQY7u2hLpHX1ZPA5gLuA1p6pmM6zPLE8ZZzSRRUjsQRXZO6wknoPhsCJVXa2XpPf_LkxeQ0r--BANynBnWnw._an0y4Imyi4mLux9udI3JkllRv0D_eOfkAD30GjO0IM&dib_tag=se&pd_rd_r=e422f30b-1b87-4adc-9659-d55bb290844c&pd_rd_w=wpPvF&pd_rd_wg=Q8Ao7&pf_rd_p=58c90a12-100b-4a2f-8e15-7c06f1abe2be&pf_rd_r=17NMKY2PJDM1BV65HRKG&qid=1723668751&refinements=p_85%3A10440599031&rps=1&s=kitchen&sr=1-3-spons&sp_csd=d2lkZ2V0TmFtZT1zcF9hdGZfYnJvd3Nl&th=1'\n",
    "\n",
    "headers = {\"User-Agent\": \"Mozilla/5.0 (Windows NT 10.0; Win64; x64) AppleWebKit/537.36 (KHTML, like Gecko)\"}\n",
    "\n",
    "# Fetch the page\n",
    "page = requests.get(URL, headers=headers)\n",
    "\n",
    "# Parse the content\n",
    "soup1 = BeautifulSoup(page.content, \"html.parser\")\n",
    "soup2 = BeautifulSoup(soup1.prettify(), \"html.parser\")\n",
    "\n",
    "# Extract the title\n",
    "title = soup2.find(id='productTitle')\n",
    "if title:  # Check if title is found\n",
    "    title_text = title.get_text().strip()\n",
    "    print(title_text)\n",
    "else:\n",
    "    print(\"Title not found.\")\n",
    "\n",
    "# Extract the price using the class name\n",
    "price = soup2.find(class_='a-price-whole')\n",
    "if price:  # Check if price is found\n",
    "    price_text = price.get_text().strip()\n",
    "    print(price_text)\n",
    "else:\n",
    "    print(\"Price not found.\")\n",
    "    \n",
    "\n",
    "import datetime\n",
    "\n",
    "today = datetime.date.today()\n",
    "\n",
    "print(today)\n",
    "\n",
    "\n",
    "import csv\n",
    "\n",
    "header = ['Title', 'Price', 'Date']\n",
    "data = [title, price, today]\n",
    "\n",
    "with open('AmazonWebScraperDataset.csv', 'w', newline='', encoding='UTF8') as f:\n",
    "    writer = csv.writer(f)\n",
    "    writer.writerow(header)\n",
    "    writer.writerow(data)\n",
    "    "
   ]
  },
  {
   "cell_type": "code",
   "execution_count": null,
   "id": "6535730f-b4fe-449c-90d6-702310bc6104",
   "metadata": {},
   "outputs": [],
   "source": [
    "import pandas as pd\n",
    "\n",
    "df = pd.read_csv(r'C:\\Users\\lenovo\\AmazonWebScraperDataset.csv')\n",
    "print(df)"
   ]
  },
  {
   "cell_type": "code",
   "execution_count": null,
   "id": "0b37fa77-da59-4974-83c9-129faf9099ea",
   "metadata": {},
   "outputs": [],
   "source": [
    "with open('AmazonWebScraperDataset.csv', 'a+', newline='', encoding='UTF8') as f:\n",
    "    writer = csv.writer(f)\n",
    "    writer.writerow(data)"
   ]
  },
  {
   "cell_type": "code",
   "execution_count": null,
   "id": "51823778-e275-4790-8a34-28aab93b9313",
   "metadata": {},
   "outputs": [],
   "source": [
    "#Combine all of the above code into one function\n",
    "\n",
    "def check_price():\n",
    "    # Connect to the website\n",
    "    URL = 'https://www.amazon.in/Whirlpool-Refrigerator-230-IMPRO-ROY/dp/B0BSRVNCYC/ref=sr_1_3_sspa?_encoding=UTF8&content-id=amzn1.sym.58c90a12-100b-4a2f-8e15-7c06f1abe2be&dib=eyJ2IjoiMSJ9.WcV38wJ-brZNaTfMoo7yrQSy1C86Op2e7c-3ilXRx9bPy4BHQejaTHoXRClBtokGeeXUWPnu8dcaiP7Pd795K7L-EbiYdDfVXjmD_cFdFfkvL-DN_N_yOQNYX0qAB88DKTaTESbpcvEsbyiH7oBlmqUtHAGy0AW6oKD97UkfqVlbMkAlLbNmsBMFbeA3-ib-7um6Z6-7iX_40y87DMlfLtipQY7u2hLpHX1ZPA5gLuA1p6pmM6zPLE8ZZzSRRUjsQRXZO6wknoPhsCJVXa2XpPf_LkxeQ0r--BANynBnWnw._an0y4Imyi4mLux9udI3JkllRv0D_eOfkAD30GjO0IM&dib_tag=se&pd_rd_r=e422f30b-1b87-4adc-9659-d55bb290844c&pd_rd_w=wpPvF&pd_rd_wg=Q8Ao7&pf_rd_p=58c90a12-100b-4a2f-8e15-7c06f1abe2be&pf_rd_r=17NMKY2PJDM1BV65HRKG&qid=1723668751&refinements=p_85%3A10440599031&rps=1&s=kitchen&sr=1-3-spons&sp_csd=d2lkZ2V0TmFtZT1zcF9hdGZfYnJvd3Nl&th=1'\n",
    "    \n",
    "    headers = {\"User-Agent\": \"Mozilla/5.0 (Windows NT 10.0; Win64; x64) AppleWebKit/537.36 (KHTML, like Gecko)\"}\n",
    "    \n",
    "    # Fetch the page\n",
    "    page = requests.get(URL, headers=headers)\n",
    "    \n",
    "    # Parse the content\n",
    "    soup1 = BeautifulSoup(page.content, \"html.parser\")\n",
    "    soup2 = BeautifulSoup(soup1.prettify(), \"html.parser\")\n",
    "    \n",
    "    # Extract the title\n",
    "    title = soup2.find(id='productTitle')\n",
    "    if title:  # Check if title is found\n",
    "        title_text = title.get_text().strip()\n",
    "        print(title_text)\n",
    "    else:\n",
    "        print(\"Title not found.\")\n",
    "    \n",
    "    # Extract the price using the class name\n",
    "    price = soup2.find(class_='a-price-whole')\n",
    "    if price:  # Check if price is found\n",
    "        price_text = price.get_text().strip()\n",
    "        print(price_text)\n",
    "    else:\n",
    "        print(\"Price not found.\")\n",
    "    import datetime\n",
    "\n",
    "    today = datetime.date.today()\n",
    "    \n",
    "    print(today)\n",
    "\n",
    "    import csv\n",
    "    \n",
    "    header = ['Title', 'Price', 'Date']\n",
    "    data = [title, price, today]\n",
    "\n",
    "    with open('AmazonWebScraperDataset.csv', 'a+', newline='', encoding='UTF8') as f:\n",
    "        writer = csv.writer(f)\n",
    "        writer.writerow(data)"
   ]
  },
  {
   "cell_type": "code",
   "execution_count": null,
   "id": "87f84b3b-095e-40f0-a98a-b12289eb7e7a",
   "metadata": {},
   "outputs": [],
   "source": [
    "# Runs check_price after a set time and inputs data into your CSV\n",
    "\n",
    "while True:\n",
    "    check_price()\n",
    "    time.sleep(86400)\n",
    "    "
   ]
  },
  {
   "cell_type": "code",
   "execution_count": null,
   "id": "18e278a7-f981-421a-9702-bab0ebb9b437",
   "metadata": {},
   "outputs": [],
   "source": []
  },
  {
   "cell_type": "code",
   "execution_count": null,
   "id": "6b1973a4-57b5-4111-ac6c-ea00d73ff8e7",
   "metadata": {},
   "outputs": [],
   "source": []
  }
 ],
 "metadata": {
  "kernelspec": {
   "display_name": "Python 3 (ipykernel)",
   "language": "python",
   "name": "python3"
  },
  "language_info": {
   "codemirror_mode": {
    "name": "ipython",
    "version": 3
   },
   "file_extension": ".py",
   "mimetype": "text/x-python",
   "name": "python",
   "nbconvert_exporter": "python",
   "pygments_lexer": "ipython3",
   "version": "3.12.4"
  }
 },
 "nbformat": 4,
 "nbformat_minor": 5
}
